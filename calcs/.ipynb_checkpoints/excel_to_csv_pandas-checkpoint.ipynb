{
 "cells": [
  {
   "cell_type": "code",
   "execution_count": 2,
   "metadata": {},
   "outputs": [],
   "source": [
    "import pandas as pd"
   ]
  },
  {
   "cell_type": "code",
   "execution_count": 17,
   "metadata": {},
   "outputs": [],
   "source": [
    "#import data from excel\n",
    "rcp_ch4 = pd.read_excel(r'/home/znjs2/Downloads/RCP_CH4_concs.xlsx', sheet_name='RCPs', index_col=0)"
   ]
  },
  {
   "cell_type": "code",
   "execution_count": 18,
   "metadata": {},
   "outputs": [
    {
     "name": "stdout",
     "output_type": "stream",
     "text": [
      "       RCP 2.6   RCP 4.5   RCP 6.0   RCP 8.5\n",
      "2000  1751.023  1751.023  1751.023  1751.023\n",
      "2005  1753.735  1753.735  1753.735  1753.735\n",
      "2010  1773.128  1767.098  1768.688  1778.675\n",
      "2020  1730.518  1801.434  1785.791  1923.671\n",
      "2030  1600.215  1829.908  1795.924  2132.014\n",
      "2040  1527.098  1841.803  1840.651  2399.245\n",
      "2050  1451.540  1833.094  1894.850  2739.985\n",
      "2060  1365.106  1800.511  1939.391  3076.135\n",
      "2070  1310.651  1744.739  1961.826  3322.341\n",
      "2080  1285.405  1671.829  1940.166  3489.839\n",
      "2090  1268.282  1613.554  1819.142  3638.592\n",
      "2100  1253.628  1576.346  1649.396  3750.685\n"
     ]
    }
   ],
   "source": [
    "#check data\n",
    "print(rcp_ch4)"
   ]
  },
  {
   "cell_type": "code",
   "execution_count": 19,
   "metadata": {},
   "outputs": [],
   "source": [
    "#export to csv\n",
    "pd.DataFrame.to_csv(rcp_ch4,r'/shared/netscratch/znjs2/SSP_RCP_ch4/rcp_paths.csv')"
   ]
  },
  {
   "cell_type": "code",
   "execution_count": null,
   "metadata": {},
   "outputs": [],
   "source": []
  }
 ],
 "metadata": {
  "kernelspec": {
   "display_name": "Python 3",
   "language": "python",
   "name": "python3"
  },
  "language_info": {
   "codemirror_mode": {
    "name": "ipython",
    "version": 3
   },
   "file_extension": ".py",
   "mimetype": "text/x-python",
   "name": "python",
   "nbconvert_exporter": "python",
   "pygments_lexer": "ipython3",
   "version": "3.7.3"
  }
 },
 "nbformat": 4,
 "nbformat_minor": 2
}
