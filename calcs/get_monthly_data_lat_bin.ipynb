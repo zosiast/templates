{
 "cells": [
  {
   "cell_type": "code",
   "execution_count": 1,
   "metadata": {},
   "outputs": [],
   "source": [
    "import netCDF4 as nc\n",
    "import pylab as plt\n",
    "import numpy as np\n",
    "from mpl_toolkits.basemap import Basemap, shiftgrid\n",
    "import cf\n",
    "import cfplot as cfp\n",
    "import matplotlib\n",
    "import numpy.ma as MA"
   ]
  },
  {
   "cell_type": "code",
   "execution_count": 4,
   "metadata": {},
   "outputs": [],
   "source": [
    "#conversion constants\n",
    "mr_var = 48.\n",
    "per_sec_to_per_yr = 60*60*24*360\n",
    "g_to_Tg = 1e12"
   ]
  },
  {
   "cell_type": "markdown",
   "metadata": {},
   "source": [
    "## Read in data"
   ]
  },
  {
   "cell_type": "code",
   "execution_count": 5,
   "metadata": {},
   "outputs": [],
   "source": [
    "data = nc.Dataset('/shared/netscratch/ptg21/UM_data/xltln/xltln_o3.nc')\n",
    "#extract variables to arrays\n",
    "ch4 = data.variables['o3'][:]*28./mr_var*1e9\n",
    "lat = data.variables['latitude'][:]\n",
    "lon = data.variables['longitude'][:]\n",
    "box_no = data.variables['model_level_number'][:]\n",
    "alt = data.variables['level_height'][:]\n",
    "\n",
    "time = data.variables['time']\n",
    "dtime = nc.num2date(time[:],time.units)"
   ]
  },
  {
   "cell_type": "code",
   "execution_count": 7,
   "metadata": {},
   "outputs": [],
   "source": [
    "data_lbc = nc.Dataset('/shared/netscratch/ptg21/UM_data/xgywn/xgywn_pm7-9.nc')\n",
    "#extract variables to arrays\n",
    "ch4_lbc = data_lbc.variables['field34001'][:]*28./mr_var*1e9\n",
    "lat_lbc = data_lbc.variables['latitude'][:]\n",
    "lon_lbc = data_lbc.variables['longitude'][:]\n",
    "#box_no_lbc = data_lbc.variables['model_level_number'][:]\n",
    "alt_lbc = data_lbc.variables['hybrid_ht'][:]\n",
    "\n",
    "time_lbc = data_lbc.variables['t']\n",
    "dtime_lbc = nc.num2date(time_lbc[:],time_lbc.units)"
   ]
  },
  {
   "cell_type": "markdown",
   "metadata": {},
   "source": [
    "## Group data by month(s)"
   ]
  },
  {
   "cell_type": "code",
   "execution_count": 8,
   "metadata": {},
   "outputs": [],
   "source": [
    "#extract month from datetime object\n",
    "def get_month(arr):\n",
    "    months = np.empty((len(arr)))\n",
    "    for i in range(len(arr)):\n",
    "        months[i] = arr[i].month\n",
    "    return months\n",
    "\n",
    "ch4_xl_months = get_month(dtime)\n",
    "ch4_xg_months = get_month(dtime_lbc)"
   ]
  },
  {
   "cell_type": "code",
   "execution_count": 9,
   "metadata": {},
   "outputs": [],
   "source": [
    "#month = integer\n",
    "#month_list = column from get_month function\n",
    "#arr = array to group by month\n",
    "\n",
    "def select_month_data(month,month_list,arr):\n",
    "    month_indices = []\n",
    "    jan_ch4 = []\n",
    "    for i in range(len(month_list)):\n",
    "        if np.int(month_list[i]) == month:\n",
    "            month_indices.append(i)\n",
    "            jan_ch4.append(arr[i,:,:,:])\n",
    "    return(np.array(jan_ch4))"
   ]
  },
  {
   "cell_type": "code",
   "execution_count": 10,
   "metadata": {},
   "outputs": [],
   "source": [
    "#change integer to select month\n",
    "a = 1\n",
    "b = 2\n",
    "\n",
    "ch4_a = select_month_data(a,ch4_xl_months,ch4)\n",
    "ch4_b = select_month_data(b,ch4_xl_months,ch4)\n",
    "\n",
    "ch4_a_lbc = select_month_data(a,ch4_xg_months,ch4_lbc)\n",
    "ch4_b_lbc = select_month_data(b,ch4_xg_months,ch4_lbc)"
   ]
  },
  {
   "cell_type": "code",
   "execution_count": 11,
   "metadata": {},
   "outputs": [],
   "source": [
    "#seasonal mean from months, over lon and time\n",
    "ch4_mean = np.mean(np.concatenate((ch4_a,ch4_b)), axis=(0,3))\n",
    "ch4_mean_lbc = np.mean(np.concatenate((ch4_a_lbc, ch4_b_lbc)), axis=(0,3))"
   ]
  },
  {
   "cell_type": "markdown",
   "metadata": {},
   "source": [
    "## Bin data by lat band"
   ]
  },
  {
   "cell_type": "code",
   "execution_count": 12,
   "metadata": {},
   "outputs": [
    {
     "name": "stdout",
     "output_type": "stream",
     "text": [
      "(6, 60)\n"
     ]
    }
   ],
   "source": [
    "lat_bands_ch4 = np.empty((6,60))\n",
    "base_em = np.zeros(6)\n",
    "\n",
    "for i in range(-90,90,30):\n",
    "    ind1 = list(lat).index(i)\n",
    "    ind2 = list(lat).index(i+30)\n",
    "    lat_data = ch4_mean[:,ind1:ind2]\n",
    "    lat_mean = np.mean(lat_data, axis=1)\n",
    "    ind3 = np.int((i+90)/30)\n",
    "    base_em[ind3] = lat_mean[0]\n",
    "    lat_bands_ch4[ind3,:] = lat_mean\n",
    "\n",
    "print(lat_bands_ch4.shape)"
   ]
  },
  {
   "cell_type": "code",
   "execution_count": 13,
   "metadata": {},
   "outputs": [],
   "source": [
    "lat_bands_ch4_lbc = np.empty((6,60))\n",
    "base_lbc = np.zeros(6)\n",
    "\n",
    "for i in range(-90,90,30):\n",
    "    ind1 = list(lat_lbc).index(i)\n",
    "    ind2 = list(lat_lbc).index(i+30)\n",
    "    lat_data = ch4_mean_lbc[:,ind1:ind2]\n",
    "    lat_mean = np.mean(lat_data, axis=1)\n",
    "    ind3=np.int((i+90)/30)\n",
    "    base_lbc[ind3] = lat_mean[0]\n",
    "    lat_bands_ch4_lbc[ind3,:] = lat_mean"
   ]
  },
  {
   "cell_type": "code",
   "execution_count": null,
   "metadata": {},
   "outputs": [],
   "source": []
  }
 ],
 "metadata": {
  "kernelspec": {
   "display_name": "Python 3",
   "language": "python",
   "name": "python3"
  },
  "language_info": {
   "codemirror_mode": {
    "name": "ipython",
    "version": 3
   },
   "file_extension": ".py",
   "mimetype": "text/x-python",
   "name": "python",
   "nbconvert_exporter": "python",
   "pygments_lexer": "ipython3",
   "version": "3.7.3"
  }
 },
 "nbformat": 4,
 "nbformat_minor": 2
}
