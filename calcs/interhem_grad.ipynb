{
 "cells": [
  {
   "cell_type": "code",
   "execution_count": 1,
   "metadata": {},
   "outputs": [],
   "source": [
    "import netCDF4 as nc\n",
    "import pylab as plt\n",
    "import numpy as np\n",
    "from mpl_toolkits.basemap import Basemap, shiftgrid\n",
    "import matplotlib\n",
    "import numpy.ma as MA"
   ]
  },
  {
   "cell_type": "markdown",
   "metadata": {},
   "source": [
    "## Import data"
   ]
  },
  {
   "cell_type": "code",
   "execution_count": 13,
   "metadata": {},
   "outputs": [],
   "source": [
    "data = nc.Dataset('/shared/netscratch/ptg21/UM_data/xltln/xltln_ch4.nc')\n",
    "#extract variables to arrays\n",
    "ch4 = data.variables['ch4'][:]*28/16.*1e9 #ppb\n",
    "lat = data.variables['latitude'][:]\n",
    "lon = data.variables['longitude']\n",
    "#alt = data.variables['level_height'][:]\n",
    "\n",
    "#ch4, lon = shiftgrid(180.,ch4,lon,start=False)"
   ]
  },
  {
   "cell_type": "code",
   "execution_count": 3,
   "metadata": {},
   "outputs": [],
   "source": [
    "press_xl_data = nc.Dataset('/shared/netscratch/ptg21/UM_data/xltln/xltln_p.nc')\n",
    "press_xl = press_xl_data.variables['p']"
   ]
  },
  {
   "cell_type": "code",
   "execution_count": 5,
   "metadata": {},
   "outputs": [],
   "source": [
    "trop_press_xl_data = nc.Dataset('/shared/netscratch/ptg21/UM_data/xltln/xltln_troppres.nc')\n",
    "trop_press_xl = trop_press_xl_data.variables['trop_p']"
   ]
  },
  {
   "cell_type": "code",
   "execution_count": 6,
   "metadata": {},
   "outputs": [],
   "source": [
    "#mass_data = nc.Dataset('/shared/netscratch/ptg21/UM_data/xltln/xltln_airmass.nc')\n",
    "#mass = mass_data.variables['airmass_atm']"
   ]
  },
  {
   "cell_type": "code",
   "execution_count": 7,
   "metadata": {},
   "outputs": [],
   "source": [
    "time = data.variables['time']\n",
    "dtime = nc.num2date(time[:],time.units)"
   ]
  },
  {
   "cell_type": "markdown",
   "metadata": {},
   "source": [
    "## Make tropospheric mask"
   ]
  },
  {
   "cell_type": "code",
   "execution_count": 8,
   "metadata": {},
   "outputs": [],
   "source": [
    "trop_mask_xl = MA.masked_where(press_xl < trop_press_xl[:][:,None,:,:], press_xl) #add extra dimension\n",
    "#print(press_lbc)"
   ]
  },
  {
   "cell_type": "code",
   "execution_count": 9,
   "metadata": {},
   "outputs": [],
   "source": [
    "#apply trop masks to methane data\n",
    "ch4_trop_xl = MA.masked_where(trop_mask_xl.mask,ch4)"
   ]
  },
  {
   "cell_type": "markdown",
   "metadata": {},
   "source": [
    "## Hemispheric mean calc"
   ]
  },
  {
   "cell_type": "code",
   "execution_count": 14,
   "metadata": {},
   "outputs": [
    {
     "name": "stdout",
     "output_type": "stream",
     "text": [
      "(array([36]),)\n"
     ]
    }
   ],
   "source": [
    "#find index of zero latitude\n",
    "lat_0_xl = np.where(lat == 0)\n",
    "print(lat_0_xl)"
   ]
  },
  {
   "cell_type": "markdown",
   "metadata": {},
   "source": [
    "### With emissions: xltln"
   ]
  },
  {
   "cell_type": "code",
   "execution_count": 12,
   "metadata": {},
   "outputs": [
    {
     "name": "stdout",
     "output_type": "stream",
     "text": [
      "SH average: 1665 ppbv\n",
      "NH average: 1744 ppbv\n",
      "\n",
      "Interhemispheric gradient: 79 ppbv\n"
     ]
    }
   ],
   "source": [
    "mean_ch4_xl_SH = np.int(np.mean(ch4_trop_xl[:,:,:36,:],axis=(0,1,2,3)))\n",
    "print(f'SH average: {mean_ch4_xl_SH} ppbv')\n",
    "\n",
    "mean_ch4_xl_NH = np.int(np.mean(ch4_trop_xl[:,:,36:,:],axis=(0,1,2,3)))\n",
    "print(f'NH average: {mean_ch4_xl_NH} ppbv')\n",
    "print()\n",
    "print(f'Interhemispheric gradient: {mean_ch4_xl_NH - mean_ch4_xl_SH} ppbv')"
   ]
  },
  {
   "cell_type": "code",
   "execution_count": null,
   "metadata": {},
   "outputs": [],
   "source": []
  }
 ],
 "metadata": {
  "kernelspec": {
   "display_name": "Python 3",
   "language": "python",
   "name": "python3"
  },
  "language_info": {
   "codemirror_mode": {
    "name": "ipython",
    "version": 3
   },
   "file_extension": ".py",
   "mimetype": "text/x-python",
   "name": "python",
   "nbconvert_exporter": "python",
   "pygments_lexer": "ipython3",
   "version": "3.7.3"
  }
 },
 "nbformat": 4,
 "nbformat_minor": 2
}
